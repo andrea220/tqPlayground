{
 "cells": [
  {
   "cell_type": "code",
   "execution_count": 3,
   "metadata": {},
   "outputs": [],
   "source": [
    "import tensorquant as tq\n",
    "from datetime import date\n",
    "import matplotlib.pyplot as plt\n",
    "import pandas as pd\n",
    "from datetime import date"
   ]
  },
  {
   "cell_type": "markdown",
   "metadata": {},
   "source": [
    "# Settings"
   ]
  },
  {
   "cell_type": "code",
   "execution_count": 21,
   "metadata": {},
   "outputs": [],
   "source": [
    "tq.Settings.evaluation_date = date(2024, 7, 31)\n",
    "\n",
    "calendar = tq.TARGET()\n",
    "daycounter = tq.DayCounter(tq.DayCounterConvention.Actual360)\n",
    "evaluation_date = tq.Settings.evaluation_date"
   ]
  },
  {
   "cell_type": "markdown",
   "metadata": {},
   "source": [
    "# Market"
   ]
  },
  {
   "cell_type": "code",
   "execution_count": 22,
   "metadata": {},
   "outputs": [],
   "source": [
    "mkt = pd.read_excel(\"data/market_20240731.xlsx\")\n",
    "mkt['start'] = mkt['start'].dt.date\n",
    "mkt['end'] = mkt['end'].dt.date\n",
    "estr_df = mkt[mkt['name'] == 'EUR_ESTR']\n",
    "eur6m_df = mkt[mkt['name'] == 'EUR_6M']\n",
    "\n",
    "rates_estr = estr_df['quote'].values/100\n",
    "times_estr = [daycounter.day_count(evaluation_date, d) for d in estr_df['end']]\n",
    "\n",
    "rates_6m = eur6m_df['quote'].values/100\n",
    "times_6m = [daycounter.day_count(evaluation_date, d) for d in eur6m_df['end']]\n",
    "\n",
    "market_data = {}\n",
    "market_data[\"IR:EUR:ESTR\"] = tq.RateCurve(reference_date=evaluation_date,\n",
    "                                        pillars=estr_df['end'],\n",
    "                                        rates=rates_estr,\n",
    "                                        interp='LINEAR',\n",
    "                                        daycounter_convention=tq.DayCounterConvention.ActualActual)\n",
    "market_data[\"IR:EUR:6M\"] = tq.RateCurve(reference_date=evaluation_date,\n",
    "                                        pillars=eur6m_df['end'],\n",
    "                                        rates=rates_6m,\n",
    "                                        interp='LINEAR',\n",
    "                                        daycounter_convention=tq.DayCounterConvention.ActualActual)\n",
    "eur6m_index = tq.IborIndex(calendar, 6, tq.TimeUnit.Months, tq.Currency.EUR, 2)\n",
    "eur6m_index.add_fixing(evaluation_date, 0.03)"
   ]
  },
  {
   "cell_type": "markdown",
   "metadata": {},
   "source": [
    "# Deposit"
   ]
  },
  {
   "cell_type": "markdown",
   "metadata": {},
   "source": [
    "A zero-coupon bond in which a counterparty lends a nominal amount \\(N\\) to another counterparty, which at maturity pays the notional amount plus the $r_{ois}(t,t+1)$ rate accrued over this period. The payoff is given by\n",
    "\n",
    "$$\n",
    "\\phi_{\\text{Deposit}}(t+1) = N(1 + r_{ois}(t,t+1)\\tau_{\\text{1day}})\n",
    "$$\n",
    "\n",
    "and its \\(t\\)-value is\n",
    "\n",
    "$$\n",
    "\\begin{split}\n",
    "\\phi_{\\text{Deposit}}(t) &= P_d(t,t+1)\\mathbb{E}^{t+1}\\left[\\frac{\\phi_{\\text{Deposit}}(t+1)}{P_d(t+1,t+1)}\\right] \\\\\n",
    "&= N P_d(t,t+1)(1 + r_{ois}(t,t+1)\\tau_{\\text{1day}}) = N\n",
    "\\end{split}\n",
    "$$\n",
    "\n",
    "Following that\n",
    "\n",
    "$$\n",
    "P_d(t,T_i) = \\frac{1}{1 + r_{ois}(t,T_i) \\tau_i}\n",
    "$$\n"
   ]
  },
  {
   "cell_type": "code",
   "execution_count": 23,
   "metadata": {},
   "outputs": [
    {
     "data": {
      "text/html": [
       "<div>\n",
       "<style scoped>\n",
       "    .dataframe tbody tr th:only-of-type {\n",
       "        vertical-align: middle;\n",
       "    }\n",
       "\n",
       "    .dataframe tbody tr th {\n",
       "        vertical-align: top;\n",
       "    }\n",
       "\n",
       "    .dataframe thead th {\n",
       "        text-align: right;\n",
       "    }\n",
       "</style>\n",
       "<table border=\"1\" class=\"dataframe\">\n",
       "  <thead>\n",
       "    <tr style=\"text-align: right;\">\n",
       "      <th></th>\n",
       "      <th>sensy</th>\n",
       "    </tr>\n",
       "    <tr>\n",
       "      <th>time</th>\n",
       "      <th></th>\n",
       "    </tr>\n",
       "  </thead>\n",
       "  <tbody>\n",
       "    <tr>\n",
       "      <th>0.005464</th>\n",
       "      <td>-0.546835</td>\n",
       "    </tr>\n",
       "    <tr>\n",
       "      <th>0.013661</th>\n",
       "      <td>1.363827</td>\n",
       "    </tr>\n",
       "    <tr>\n",
       "      <th>0.024590</th>\n",
       "      <td>0.004690</td>\n",
       "    </tr>\n",
       "  </tbody>\n",
       "</table>\n",
       "</div>"
      ],
      "text/plain": [
       "             sensy\n",
       "time              \n",
       "0.005464 -0.546835\n",
       "0.013661  1.363827\n",
       "0.024590  0.004690"
      ]
     },
     "execution_count": 23,
     "metadata": {},
     "output_type": "execute_result"
    }
   ],
   "source": [
    "spot_date = calendar.advance(evaluation_date, 2, tq.TimeUnit.Days, tq.DayCounterConvention.Actual360)\n",
    "maturity = calendar.advance(spot_date, 1, tq.TimeUnit.Days, tq.DayCounterConvention.Actual360)\n",
    "quote = 0.03\n",
    "\n",
    "deposit = tq.Deposit(ccy=tq.Currency.EUR,\n",
    "                    rate=quote,\n",
    "                    trade_date=evaluation_date,\n",
    "                    start_date=spot_date,\n",
    "                    end_date=maturity,\n",
    "                    notional=100,\n",
    "                    day_count_convention=tq.DayCounterConvention.Actual360)\n",
    "depo_engine = tq.DepositPricer(tq.market_map)\n",
    "depo_engine.price(deposit, market_data, True)\n",
    "sensy_depo = depo_engine.tape.gradient(deposit.price, market_data[\"IR:EUR:ESTR\"]._rates)\n",
    "\n",
    "# results\n",
    "sensy_depo = pd.DataFrame([market_data[\"IR:EUR:ESTR\"]._pillars, sensy_depo]).T\n",
    "sensy_depo.columns = ['time', 'sensy']\n",
    "sensy_depo.fillna(0, inplace = True)\n",
    "sensy_depo.set_index('time', inplace = True)\n",
    "sensy_depo['sensy'] = sensy_depo['sensy'].apply(tq.extract_value)\n",
    "sensy_depo[sensy_depo['sensy'] != 0]\n"
   ]
  },
  {
   "cell_type": "markdown",
   "metadata": {},
   "source": [
    "# Forward Rate Agreement"
   ]
  },
  {
   "cell_type": "markdown",
   "metadata": {},
   "source": [
    "A multi-curve FRA is a contract in which two parties agree, in $t$, on the financing rate for a period $(T_n,T_S)$, the standard market FRA exchanges the cash flow in $T_n$, which, since it's an uncollateralized financing, is the same payoff that would be exchanged at the end of the period $(T_S)$ but discounted by $[1+\\tau_{6m}F_{6m}(t,T_n,T_S)]^{-1}$. Hence, the corresponding FRA rate, $F_x(t,T_n,T_S)$, can be considered as the fixed rate to exchange in $T_S$ against the Libor rate $L_x(T_n,T_S)$ such that the $t$-value of a corresponding *one-cash-flow* swap is zero.  \n",
    "\n",
    "FRA contracts are nowadays, in most cases, regulated by a CSA, so if we stress a bit the reality, assuming continuous mark-to-market and collateral posting, and that it covers 100\\% of the contract's present value, then we could in fact neglect counterparty default risk, and discount our cash flow using the risk-free discount factor $P_d(t,T_n)$. Hence, the $t$-value of the FRA will be given by\n",
    "\n",
    "$$\n",
    "FRA_{6m} = P_d(t,T_n) \\frac{k - F_{6m}(t,T_n,T_S)}{1 + \\tau_{6m}F_{6m}(t,T_n,T_S)} \\tau_{6m}\n",
    "$$\n",
    "\n",
    "where the FRA rate, $k$, that makes the contract fair, is given by\n",
    "\n",
    "$$\n",
    "k = F_{6m}(t,T_n,T_S) = \\frac{1}{\\tau_{6m}} \\left( \\frac{P_{6m}(t,T_n)}{P_{6m}(t,T_S)} - 1 \\right)\n",
    "$$\n",
    "\n",
    "and $P_{6m}(t,T_n)$ is the unitary zero-coupon bond associated with $r_{6m}(t,T_n)$: $$P_{6m}(t,T_n) = e^{-\\int_t^{T_n} r_{6m}(s,s+6m) ds} = e^{r_{6m}(t,T_n)(T_n-t)}$$\n"
   ]
  },
  {
   "cell_type": "code",
   "execution_count": 24,
   "metadata": {},
   "outputs": [],
   "source": [
    "notional=100e6\n",
    "fixed_rate = 0.01\n",
    "\n",
    "eur_fra_builder = tq.FraGenerator(ccy=tq.Currency.EUR,\n",
    "                                  start_delay=2,\n",
    "                                  fixing_days=2,#TODO a che serve??\n",
    "                                  index_term=\"6M\",\n",
    "                                  roll_convention= tq.BusinessDayConvention.ModifiedFollowing,\n",
    "                                  notional=notional,\n",
    "                                  day_count_convention=tq.DayCounterConvention.Actual360,\n",
    "                                  calendar=calendar,\n",
    "                                  index=eur6m_index)  \n",
    "fra = eur_fra_builder.build(trade_date=evaluation_date, quote=fixed_rate, term=\"3M-9M\")"
   ]
  },
  {
   "cell_type": "code",
   "execution_count": 25,
   "metadata": {},
   "outputs": [
    {
     "name": "stdout",
     "output_type": "stream",
     "text": [
      "NPV FRA: 896,751\n"
     ]
    }
   ],
   "source": [
    "fra_engine = tq.FraPricer(tq.market_map)\n",
    "fra_engine.price(fra, market_data, True)\n",
    "tape = fra_engine.tape\n",
    "print(f\"NPV FRA: {fra.price :,.0f}\")"
   ]
  },
  {
   "cell_type": "markdown",
   "metadata": {},
   "source": [
    "# OIS"
   ]
  },
  {
   "cell_type": "markdown",
   "metadata": {},
   "source": [
    "$$\n",
    "\\begin{split}\n",
    "SWAP_{OIS}(t, T_n, T_S, k) \n",
    "&= FIX_{OIS}(t, T_n, T_S, k) - FLT_{OIS}(t, T_n, T_S) \\\\\n",
    "&= k \\sum_{j=n+1}^{S} \\tau_j P_d(t, T_j) - [P_d(t, T_n) - P_d(t, T_S)] \\\\\n",
    "&= k A_{d,n,s}(t) - [P_d(t, T_n) - P_d(t, T_S)]\n",
    "\\end{split}\n",
    "$$\n",
    "\n",
    "Where $A_{d,n,s}(t)$ is called the *annuity factor*. From here, it's easy to derive the value of $k$ which makes the SWAP fair in $t$, i.e., the fixed rate such that $SWAP_{OIS}(t, T_n, T_S, k) = 0$, the so-called SWAP rate, given by\n",
    "\n",
    "$$\n",
    "k = S_{n,S}(t) = \\frac{P_d(t, T_n) - P_d(t, T_S)}{A_{d,n,s}(t)}\n",
    "$$\n"
   ]
  },
  {
   "cell_type": "code",
   "execution_count": 26,
   "metadata": {},
   "outputs": [],
   "source": [
    "estr_index = tq.OvernightIndex(calendar, tq.Currency.EUR)\n",
    "\n",
    "eur_ois_builder = tq.OisGenerator(\n",
    "                        ccy=tq.Currency.EUR,\n",
    "                        start_delay=2,\n",
    "                        fixing_days=2,\n",
    "                        period_fix=\"1Y\",\n",
    "                        period_flt=\"1Y\",\n",
    "                        roll_convention= tq.BusinessDayConvention.ModifiedFollowing,\n",
    "                        notional=100e6,\n",
    "                        day_count_convention_fix= tq.DayCounterConvention.Actual360,\n",
    "                        day_count_convention_flt= tq.DayCounterConvention.Actual360,\n",
    "                        calendar=calendar,\n",
    "                        index= estr_index)\n",
    "\n",
    "fixed_rate = 0.01\n",
    "ois = eur_ois_builder.build(trade_date=evaluation_date, quote=fixed_rate, term=\"5Y\")"
   ]
  },
  {
   "cell_type": "code",
   "execution_count": 27,
   "metadata": {},
   "outputs": [
    {
     "name": "stdout",
     "output_type": "stream",
     "text": [
      "NPV FixedLeg: -4,703,160\n",
      "NPV FloatingLeg: 11,375,789\n",
      "NPV OIS: 6,672,629\n"
     ]
    }
   ],
   "source": [
    "ois_engine = tq.OisPricer(tq.market_map)\n",
    "# npv_ois, tape = ois_engine.price(ois, evaluation_date, market_data, True)\n",
    "ois_engine.price(ois, market_data, True)\n",
    "sensitivities = ois_engine.tape.gradient(ois.price, [market_data['IR:EUR:ESTR']._rates, market_data['IR:EUR:6M']._rates])\n",
    "\n",
    "print(f\"NPV FixedLeg: {ois.fixed_leg.price :,.0f}\")\n",
    "print(f\"NPV FloatingLeg: {ois.floating_leg.price :,.0f}\")\n",
    "# ########\n",
    "print(f\"NPV OIS: {ois.price :,.0f}\")"
   ]
  },
  {
   "cell_type": "markdown",
   "metadata": {},
   "source": [
    "# Vanilla Swap"
   ]
  },
  {
   "cell_type": "markdown",
   "metadata": {},
   "source": [
    "$$\n",
    "\\begin{split}\n",
    "Swap_{6m}(t, T_a, T_b, K) \n",
    "&= FIX(t, T_a, T_b, K) - FLT_{6m}(t, T_a, T_b) \\\\ \n",
    "&= K \\sum_{k=a+1}^{b} \\tau_k P_d(t, T_k) - \\sum_{k=a+1}^{b} \\tau_k P_d(t, T_k) F_{6m}(t, T_a, T_b) \\\\\n",
    "&= K A_{a,b}(t) - \\sum_{k=a+1}^{b} \\tau_k P_d(t, T_k) F_{6m}(t, T_a, T_b)\n",
    "\\end{split}\n",
    "$$\n",
    "\n",
    "And the strike, $K$, that makes the SWAP fair will be\n",
    "\n",
    "$$\n",
    "K = \\frac{\\sum_{k=a+1}^{b} \\tau_k P_d(t, T_k) F_{6m}(t, T_a, T_b)}{A_{a,b}(t)}\n",
    "$$\n"
   ]
  },
  {
   "cell_type": "code",
   "execution_count": 28,
   "metadata": {},
   "outputs": [],
   "source": [
    "currency = tq.Currency.EUR\n",
    "mod_fol_convention = tq.BusinessDayConvention.ModifiedFollowing\n",
    "daycount_fix = tq.DayCounterConvention.Actual360\n",
    "daycount_flt = tq.DayCounterConvention.Actual360\n",
    "\n",
    "settlement_delay = 2 \n",
    "period_fixed_leg = \"1Y\"\n",
    "period_float_leg = \"6M\"\n",
    "\n",
    "irs_eur6m_generator = tq.SwapGenerator(currency, settlement_delay, period_fixed_leg, period_float_leg, mod_fol_convention, 100e6, daycount_fix, daycount_flt, calendar, eur6m_index)\n",
    "fixed_rate = 0.01\n",
    "swap = irs_eur6m_generator.build(trade_date=evaluation_date, quote=0.01, term=\"10Y\")"
   ]
  },
  {
   "cell_type": "code",
   "execution_count": 29,
   "metadata": {},
   "outputs": [
    {
     "name": "stdout",
     "output_type": "stream",
     "text": [
      "NPV FixedLeg: -8,878,357\n",
      "NPV FloatingLeg: 22,692,311\n",
      "NPV Swap: 13,813,954\n"
     ]
    }
   ],
   "source": [
    "swap_engine = tq.SwapPricer(tq.market_map)\n",
    "swap_engine.price(swap, market_data, True)\n",
    "sensitivities = swap_engine.tape.gradient(swap.price, [market_data['IR:EUR:ESTR']._rates, market_data['IR:EUR:6M']._rates])\n",
    "\n",
    "print(f\"NPV FixedLeg: {swap.fixed_leg.price :,.0f}\")\n",
    "print(f\"NPV FloatingLeg: {swap.floating_leg.price :,.0f}\")\n",
    "########\n",
    "print(f\"NPV Swap: {swap.price :,.0f}\")"
   ]
  },
  {
   "cell_type": "markdown",
   "metadata": {},
   "source": [
    "# Automatic Adjoint Differentiation (AAD) "
   ]
  },
  {
   "cell_type": "markdown",
   "metadata": {},
   "source": [
    "Consider a calculation represented by the function $F: \\mathbb{R}^n \\rightarrow \\mathbb{R}$ that produces a scalar result $z$ out of an input $X$ in dimension $n$. Assume $F$ may be broken down into a sequence of sub-calculations $G: \\mathbb{R}^n \\rightarrow \\mathbb{R}^m$, $K: \\mathbb{R}^m \\rightarrow \\mathbb{R}^p$, and $H: \\mathbb{R}^p \\rightarrow \\mathbb{R}$, such that:\n",
    "\n",
    "$$\n",
    "F(X) = H\\{K[G(X)]\\}\n",
    "$$\n",
    "\n",
    "where $G$, $K$, and $H$ are simple enough that their Jacobians are known analytically.\n",
    "\n",
    "Jacobian matrices of $F$, $G$, $K$, and $H$ are related by the chain rule:\n",
    "\n",
    "$$\n",
    "\\left( \\frac{\\partial F}{\\partial X} \\right)^T_{n \\times 1} = \\left( \\frac{\\partial G}{\\partial X} \\right)^T_{n \\times m} \\left( \\frac{\\partial K}{\\partial Y} \\right)^T_{m \\times p} \\left( \\frac{\\partial H}{\\partial Z} \\right)^T_{p \\times 1}\n",
    "$$\n",
    "\n",
    "Because matrix products are associative, we can also accumulate the differentials in reverse order:\n",
    "\n",
    "$$\n",
    "\\left( \\frac{\\partial F}{\\partial X} \\right)^T_{n \\times 1} = \\left( \\frac{\\partial G}{\\partial X} \\right)^T_{n \\times m} \\left[ \\left( \\frac{\\partial K}{\\partial Y} \\right)^T_{m \\times p} \\left( \\frac{\\partial H}{\\partial Z} \\right)^T_{p \\times 1} \\right]_{m \\times 1}\n",
    "$$\n"
   ]
  },
  {
   "cell_type": "code",
   "execution_count": 30,
   "metadata": {},
   "outputs": [
    {
     "data": {
      "image/png": "[encoded data removed]",
      "text/plain": [
       "<Figure size 640x480 with 1 Axes>"
      ]
     },
     "metadata": {},
     "output_type": "display_data"
    }
   ],
   "source": [
    "sensy_estr = pd.DataFrame([market_data['IR:EUR:ESTR']._pillars, sensitivities[0]]).T\n",
    "sensy_estr.columns = ['time', 'sensy_estr']\n",
    "sensy_estr.fillna(0., inplace = True)\n",
    "sensy_estr.set_index('time', inplace = True)\n",
    "sensy_estr['sensy_estr'] = sensy_estr['sensy_estr'].apply(tq.extract_value)\n",
    "\n",
    "sensy_eur6m = pd.DataFrame([market_data['IR:EUR:6M']._pillars, sensitivities[1]]).T\n",
    "sensy_eur6m.columns = ['time', 'sensy_eur6m']\n",
    "sensy_eur6m.fillna(0, inplace = True)\n",
    "sensy_eur6m.set_index('time', inplace = True)\n",
    "sensy_eur6m['sensy_eur6m'] = sensy_eur6m['sensy_eur6m'].apply(tq.extract_value)\n",
    "\n",
    "plt.bar(sensy_estr.index, sensy_estr['sensy_estr'])\n",
    "plt.xlabel('Index')\n",
    "plt.ylabel('Value')\n",
    "plt.title('ESTR sensy')\n",
    "plt.show()"
   ]
  },
  {
   "cell_type": "code",
   "execution_count": null,
   "metadata": {},
   "outputs": [],
   "source": []
  },
  {
   "cell_type": "code",
   "execution_count": null,
   "metadata": {},
   "outputs": [],
   "source": []
  },
  {
   "cell_type": "code",
   "execution_count": null,
   "metadata": {},
   "outputs": [],
   "source": []
  },
  {
   "cell_type": "code",
   "execution_count": null,
   "metadata": {},
   "outputs": [],
   "source": []
  },
  {
   "cell_type": "code",
   "execution_count": null,
   "metadata": {},
   "outputs": [],
   "source": []
  },
  {
   "cell_type": "code",
   "execution_count": null,
   "metadata": {},
   "outputs": [],
   "source": []
  }
 ],
 "metadata": {
  "kernelspec": {
   "display_name": "Python 3",
   "language": "python",
   "name": "python3"
  },
  "language_info": {
   "codemirror_mode": {
    "name": "ipython",
    "version": 3
   },
   "file_extension": ".py",
   "mimetype": "text/x-python",
   "name": "python",
   "nbconvert_exporter": "python",
   "pygments_lexer": "ipython3",
   "version": "3.10.7"
  }
 },
 "nbformat": 4,
 "nbformat_minor": 2
}
