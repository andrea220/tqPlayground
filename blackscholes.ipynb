{
 "cells": [
  {
   "cell_type": "code",
   "execution_count": 3,
   "metadata": {},
   "outputs": [],
   "source": [
    "import tensorquant as tq\n",
    "from datetime import date \n",
    "import matplotlib.pyplot as plt\n",
    "import pandas as pd \n",
    "# import tensorflow as tf\n",
    "# import tensorflow_probability as tfp\n",
    "import numpy as np"
   ]
  },
  {
   "cell_type": "markdown",
   "metadata": {},
   "source": [
    "# Settings"
   ]
  },
  {
   "cell_type": "code",
   "execution_count": 5,
   "metadata": {},
   "outputs": [],
   "source": [
    "tq.Settings.evaluation_date = date(2024, 7, 31)\n",
    "trade_date = tq.Settings.evaluation_date"
   ]
  },
  {
   "cell_type": "markdown",
   "metadata": {},
   "source": [
    "# Market"
   ]
  },
  {
   "cell_type": "code",
   "execution_count": 9,
   "metadata": {},
   "outputs": [],
   "source": [
    "market = {}\n",
    "daycounter = tq.DayCounter(tq.DayCounterConvention.ActualActual)\n",
    "\n",
    "curves_df = pd.read_excel(\"data/market_20240731.xlsx\", sheet_name='curves')\n",
    "curves_df['start'] = curves_df['start'].dt.date\n",
    "curves_df['end'] = curves_df['end'].dt.date\n",
    "estr_df = curves_df[curves_df['name'] == 'EUR_ESTR']\n",
    "eur6m_df = curves_df[curves_df['name'] == 'EUR_6M']\n",
    "\n",
    "rates = estr_df['quote'].values/100\n",
    "#tq\n",
    "curve_tq = tq.RateCurve(reference_date=tq.Settings.evaluation_date,\n",
    "                         pillars=estr_df['end'],\n",
    "                         rates=rates,\n",
    "                         interp='LINEAR',\n",
    "                         daycounter_convention=tq.DayCounterConvention.ActualActual)\n",
    "\n",
    "vol_df = pd.read_excel(\"data/market_20240731.xlsx\", sheet_name = 'vols', index_col=0)\n",
    "default_vol = vol_df.loc['DEFAULT']\n",
    "maturities = default_vol['tenor'].unique()\n",
    "strikes = default_vol['strike'].unique()\n",
    "\n",
    "vol_matr = np.zeros((len(maturities), len(strikes)))\n",
    "for i, t in enumerate(maturities):\n",
    "    vol_matr[i, :] = default_vol[default_vol['tenor'] == t]['quote'].values\n",
    "    \n",
    "surface = tq.VolatilitySurface(reference_date=tq.Settings.evaluation_date,\n",
    "                            calendar=tq.TARGET(),\n",
    "                            daycounter=tq.DayCounter(tq.DayCounterConvention.Actual365),\n",
    "                            strike=strikes,\n",
    "                            maturity=maturities/365,\n",
    "                            volatility_matrix=vol_matr)\n",
    "\n",
    "spot_df = pd.read_excel(\"data/market_20240731.xlsx\", sheet_name = 'spot', index_col=0)\n",
    "\n",
    "market['IR:EUR:ESTR'] = curve_tq\n",
    "market['VOLEQ:DEFAULT'] = surface\n",
    "market['EQ:DEFAULT'] = spot_df.loc['DEFAULT']['quote']"
   ]
  },
  {
   "cell_type": "markdown",
   "metadata": {},
   "source": [
    "# Option"
   ]
  },
  {
   "cell_type": "markdown",
   "metadata": {},
   "source": [
    "# 1. Black-Scholes Model Overview\n",
    "\n",
    "The **Black-Scholes model** is a mathematical model for pricing European-style options. The model assumes that the price of the underlying asset follows a geometric Brownian motion with constant drift and volatility.\n",
    "\n",
    "The Black-Scholes formula for the price of a European call option is given by:\n",
    "\n",
    "$$\n",
    "C(S, t) = S_0 N(d_1) - X e^{-r(T-t)} N(d_2)\n",
    "$$\n",
    "\n",
    "where:\n",
    "- $ S_0 $ is the current price of the asset.\n",
    "- $ X $ is the strike price.\n",
    "- $ T $ is the time to expiration.\n",
    "- $ r $ is the risk-free interest rate.\n",
    "- $ N(d) $ is the cumulative distribution function of the standard normal distribution.\n",
    "- $ d_1 $ and $ d_2 $ are given by:\n",
    "\n",
    "$$\n",
    "d_1 = \\frac{\\ln(S_0/X) + (r + \\frac{\\sigma^2}{2}) (T-t)}{\\sigma \\sqrt{T-t}}\n",
    "$$\n",
    "\n",
    "$$\n",
    "d_2 = d_1 - \\sigma \\sqrt{T-t}\n",
    "$$\n",
    "\n",
    "### Assumptions of the Model:\n",
    "1. The price of the underlying asset follows a lognormal distribution.\n",
    "2. There are no transaction costs or taxes.\n",
    "3. The risk-free interest rate is constant.\n",
    "4. The volatility of the asset is constant.\n",
    "5. The options are European-style, meaning they can only be exercised at expiration.\n",
    "\n",
    "---\n",
    "\n",
    "# 2. Key Sensitivities (Greeks)\n",
    "\n",
    "In the Black-Scholes framework, the price of an option is sensitive to various factors, commonly referred to as the **Greeks**. The most important Greeks are:\n",
    "\n",
    "- **Delta (Δ)**: Measures the sensitivity of the option price to small changes in the price of the underlying asset. Mathematically, it is the partial derivative of the option price with respect to the asset price.\n",
    "\n",
    "  $$\n",
    "  \\Delta = \\frac{\\partial C}{\\partial S_0}\n",
    "  $$\n",
    "\n",
    "- **Gamma (Γ)**: Measures the sensitivity of Delta to small changes in the price of the underlying asset.\n",
    "\n",
    "  $$\n",
    "  \\Gamma = \\frac{\\partial^2 C}{\\partial S_0^2}\n",
    "  $$\n",
    "\n",
    "- **Theta (Θ)**: Measures the sensitivity of the option price to the passage of time. It is the partial derivative of the option price with respect to time.\n",
    "\n",
    "  $$\n",
    "  \\Theta = \\frac{\\partial C}{\\partial t}\n",
    "  $$\n",
    "\n",
    "- **Vega (ν)**: Measures the sensitivity of the option price to changes in volatility of the underlying asset.\n",
    "\n",
    "  $$\n",
    "  \\nu = \\frac{\\partial C}{\\partial \\sigma}\n",
    "  $$\n",
    "\n",
    "- **Rho (ρ)**: Measures the sensitivity of the option price to changes in the risk-free interest rate.\n",
    "\n",
    "  $$\n",
    "  \\rho = \\frac{\\partial C}{\\partial r}\n",
    "  $$\n"
   ]
  },
  {
   "cell_type": "code",
   "execution_count": 10,
   "metadata": {},
   "outputs": [],
   "source": [
    "maturity_date = tq.TARGET().advance(tq.Settings.evaluation_date, 6, tq.TimeUnit.Months, tq.BusinessDayConvention.ModifiedFollowing)\n",
    "strike_price = 130\n",
    "\n",
    "option = tq.VanillaOption(tq.Currency.EUR, tq.Settings.evaluation_date, maturity_date, tq.OptionType.Call,\n",
    "                             underlying = 'DEFAULT',strike = strike_price)\n",
    "black_pricer = tq.BlackScholesPricer(tq.market_map)\n",
    "black_pricer.price(option, market, True)"
   ]
  },
  {
   "cell_type": "code",
   "execution_count": 11,
   "metadata": {},
   "outputs": [
    {
     "data": {
      "text/plain": [
       "<tf.Tensor: shape=(), dtype=float32, numpy=11.509682>"
      ]
     },
     "execution_count": 11,
     "metadata": {},
     "output_type": "execute_result"
    }
   ],
   "source": [
    "option.price"
   ]
  },
  {
   "cell_type": "code",
   "execution_count": 12,
   "metadata": {},
   "outputs": [
    {
     "data": {
      "text/plain": [
       "[<tf.Tensor: shape=(), dtype=float32, numpy=0.5430066>,\n",
       " <tf.Tensor: shape=(), dtype=float32, numpy=29.131895>,\n",
       " <tf.Tensor: shape=(), dtype=float32, numpy=35.938335>,\n",
       " <tf.Tensor: shape=(), dtype=float32, numpy=13.412939>]"
      ]
     },
     "execution_count": 12,
     "metadata": {},
     "output_type": "execute_result"
    }
   ],
   "source": [
    "black_pricer.tape.gradient(option.price, [black_pricer._s, black_pricer._r, black_pricer._sigma, black_pricer._t])\n"
   ]
  },
  {
   "cell_type": "markdown",
   "metadata": {},
   "source": [
    "# 3. Monte Carlo Simulation for Option Pricing\n",
    "\n",
    "Monte Carlo simulations are used to model the behavior of financial instruments under uncertainty. In the context of option pricing, Monte Carlo methods involve simulating numerous paths for the price of the underlying asset using random samples from a probability distribution (typically normal distribution).\n",
    "\n",
    "### Steps in a Monte Carlo Simulation for Option Pricing:\n",
    "1. Simulate multiple paths for the underlying asset price using a stochastic process like **Geometric Brownian Motion (GBM)**:\n",
    "   \n",
    "   $$\n",
    "   S_t = S_0 e^{(r - \\frac{\\sigma^2}{2})t + \\sigma W_t}\n",
    "   $$\n",
    "   \n",
    "   where $ W_t $ is a Wiener process (Brownian motion).\n",
    "\n",
    "2. Calculate the payoff for each simulated path at option maturity. For a call option, the payoff is:\n",
    "   \n",
    "   $$\n",
    "   \\max(S_T - X, 0)\n",
    "   $$\n",
    "   \n",
    "3. Discount the average payoff back to the present to get the option price:\n",
    "   \n",
    "   $$\n",
    "   C = e^{-rT} \\frac{1}{n} \\sum_{i=1}^{n} \\max(S_T^i - X, 0)\n",
    "   $$\n",
    "\n",
    "By simulating a large number of paths, the Monte Carlo approach provides an approximation for the option price, particularly useful for options with complex features that make closed-form solutions difficult."
   ]
  },
  {
   "cell_type": "code",
   "execution_count": 13,
   "metadata": {},
   "outputs": [],
   "source": [
    "s0 = black_pricer._s.numpy()\n",
    "r = black_pricer._r.numpy()\n",
    "sigma = black_pricer._sigma.numpy()\n",
    "t = black_pricer._t.numpy()\n",
    "gbm = tq.GeometricBrownianMotion(r,sigma, s0)"
   ]
  },
  {
   "cell_type": "code",
   "execution_count": 14,
   "metadata": {},
   "outputs": [],
   "source": [
    "import tensorflow as tf\n",
    "n_path = 200000\n",
    "timesteps = 200\n",
    "z = tf.random.normal((n_path, timesteps), seed=12, dtype=tf.dtypes.float64)"
   ]
  },
  {
   "cell_type": "code",
   "execution_count": 15,
   "metadata": {},
   "outputs": [
    {
     "name": "stdout",
     "output_type": "stream",
     "text": [
      "Black AAD: \n",
      "Price:  11.549910803860488\n",
      "******************************\n",
      "Delta: 0.542190725790068\n",
      "Rho: 29.059129051217027\n",
      "Vega: 36.12936387712836\n",
      "Theta: 13.46892131636077\n",
      "******************************\n"
     ]
    }
   ],
   "source": [
    "t = tf.Variable(t, dtype=tf.float64)\n",
    "with tf.GradientTape() as tape:\n",
    "    s_t = gbm.evolve(t, z)\n",
    "    payoff = tf.math.maximum(s_t[:, -1] - strike_price, 0)\n",
    "    p_mc = tf.exp(-gbm._mu * t) * tf.reduce_mean(payoff)\n",
    "\n",
    "sensy = tape.gradient(p_mc, [gbm._x0, gbm._mu, gbm._sigma, t])\n",
    "print(\"Black AAD: \")\n",
    "print(\"Price: \", p_mc.numpy())\n",
    "print(\"*\"*30)\n",
    "print(f\"Delta: {sensy[0].numpy()}\")\n",
    "print(f\"Rho: {sensy[1].numpy()}\")\n",
    "print(f\"Vega: {sensy[2].numpy()}\")\n",
    "print(f\"Theta: {sensy[3].numpy()}\")\n",
    "print(\"*\"*30)"
   ]
  },
  {
   "cell_type": "code",
   "execution_count": null,
   "metadata": {},
   "outputs": [],
   "source": []
  },
  {
   "cell_type": "code",
   "execution_count": null,
   "metadata": {},
   "outputs": [],
   "source": []
  },
  {
   "cell_type": "code",
   "execution_count": null,
   "metadata": {},
   "outputs": [],
   "source": []
  },
  {
   "cell_type": "code",
   "execution_count": null,
   "metadata": {},
   "outputs": [],
   "source": []
  }
 ],
 "metadata": {
  "kernelspec": {
   "display_name": "Python 3",
   "language": "python",
   "name": "python3"
  },
  "language_info": {
   "codemirror_mode": {
    "name": "ipython",
    "version": 3
   },
   "file_extension": ".py",
   "mimetype": "text/x-python",
   "name": "python",
   "nbconvert_exporter": "python",
   "pygments_lexer": "ipython3",
   "version": "3.10.7"
  }
 },
 "nbformat": 4,
 "nbformat_minor": 2
}
