{
 "cells": [
  {
   "cell_type": "code",
   "execution_count": 3,
   "metadata": {},
   "outputs": [],
   "source": [
    "import tensorquant as tq\n",
    "from datetime import date \n",
    "import matplotlib.pyplot as plt\n",
    "import pandas as pd \n",
    "# import tensorflow as tf\n",
    "# import tensorflow_probability as tfp\n",
    "import numpy as np"
   ]
  },
  {
   "cell_type": "markdown",
   "metadata": {},
   "source": [
    "# Settings"
   ]
  },
  {
   "cell_type": "code",
   "execution_count": 5,
   "metadata": {},
   "outputs": [],
   "source": [
    "tq.Settings.evaluation_date = date(2024, 7, 31)\n",
    "trade_date = tq.Settings.evaluation_date"
   ]
  },
  {
   "cell_type": "markdown",
   "metadata": {},
   "source": [
    "# Market"
   ]
  },
  {
   "cell_type": "code",
   "execution_count": 9,
   "metadata": {},
   "outputs": [],
   "source": [
    "market = {}\n",
    "daycounter = tq.DayCounter(tq.DayCounterConvention.ActualActual)\n",
    "\n",
    "curves_df = pd.read_excel(\"data/market_20240731.xlsx\", sheet_name='curves')\n",
    "curves_df['start'] = curves_df['start'].dt.date\n",
    "curves_df['end'] = curves_df['end'].dt.date\n",
    "estr_df = curves_df[curves_df['name'] == 'EUR_ESTR']\n",
    "eur6m_df = curves_df[curves_df['name'] == 'EUR_6M']\n",
    "\n",
    "rates = estr_df['quote'].values/100\n",
    "#tq\n",
    "curve_tq = tq.RateCurve(reference_date=tq.Settings.evaluation_date,\n",
    "                         pillars=estr_df['end'],\n",
    "                         rates=rates,\n",
    "                         interp='LINEAR',\n",
    "                         daycounter_convention=tq.DayCounterConvention.ActualActual)\n",
    "\n",
    "vol_df = pd.read_excel(\"data/market_20240731.xlsx\", sheet_name = 'vols', index_col=0)\n",
    "default_vol = vol_df.loc['DEFAULT']\n",
    "maturities = default_vol['tenor'].unique()\n",
    "strikes = default_vol['strike'].unique()\n",
    "\n",
    "vol_matr = np.zeros((len(maturities), len(strikes)))\n",
    "for i, t in enumerate(maturities):\n",
    "    vol_matr[i, :] = default_vol[default_vol['tenor'] == t]['quote'].values\n",
    "    \n",
    "surface = tq.VolatilitySurface(reference_date=tq.Settings.evaluation_date,\n",
    "                            calendar=tq.TARGET(),\n",
    "                            daycounter=tq.DayCounter(tq.DayCounterConvention.Actual365),\n",
    "                            strike=strikes,\n",
    "                            maturity=maturities/365,\n",
    "                            volatility_matrix=vol_matr)\n",
    "\n",
    "spot_df = pd.read_excel(\"data/market_20240731.xlsx\", sheet_name = 'spot', index_col=0)\n",
    "\n",
    "market['IR:EUR:ESTR'] = curve_tq\n",
    "market['VOLEQ:DEFAULT'] = surface\n",
    "market['EQ:DEFAULT'] = spot_df.loc['DEFAULT']['quote']"
   ]
  },
  {
   "cell_type": "markdown",
   "metadata": {},
   "source": [
    "# Option"
   ]
  },
  {
   "cell_type": "markdown",
   "metadata": {},
   "source": [
    "# TQ"
   ]
  },
  {
   "cell_type": "markdown",
   "metadata": {},
   "source": [
    "### BSM"
   ]
  },
  {
   "cell_type": "code",
   "execution_count": 10,
   "metadata": {},
   "outputs": [],
   "source": [
    "maturity_date = tq.TARGET().advance(tq.Settings.evaluation_date, 6, tq.TimeUnit.Months, tq.BusinessDayConvention.ModifiedFollowing)\n",
    "strike_price = 130\n",
    "\n",
    "option = tq.VanillaOption(tq.Currency.EUR, tq.Settings.evaluation_date, maturity_date, tq.OptionType.Call,\n",
    "                             underlying = 'DEFAULT',strike = strike_price)\n",
    "black_pricer = tq.BlackScholesPricer(tq.market_map)\n",
    "black_pricer.price(option, market, True)"
   ]
  },
  {
   "cell_type": "code",
   "execution_count": 11,
   "metadata": {},
   "outputs": [
    {
     "data": {
      "text/plain": [
       "<tf.Tensor: shape=(), dtype=float32, numpy=11.509682>"
      ]
     },
     "execution_count": 11,
     "metadata": {},
     "output_type": "execute_result"
    }
   ],
   "source": [
    "option.price"
   ]
  },
  {
   "cell_type": "code",
   "execution_count": 12,
   "metadata": {},
   "outputs": [
    {
     "data": {
      "text/plain": [
       "[<tf.Tensor: shape=(), dtype=float32, numpy=0.5430066>,\n",
       " <tf.Tensor: shape=(), dtype=float32, numpy=29.131895>,\n",
       " <tf.Tensor: shape=(), dtype=float32, numpy=35.938335>,\n",
       " <tf.Tensor: shape=(), dtype=float32, numpy=13.412939>]"
      ]
     },
     "execution_count": 12,
     "metadata": {},
     "output_type": "execute_result"
    }
   ],
   "source": [
    "black_pricer.tape.gradient(option.price, [black_pricer._s, black_pricer._r, black_pricer._sigma, black_pricer._t])\n"
   ]
  },
  {
   "cell_type": "markdown",
   "metadata": {},
   "source": [
    "### MC"
   ]
  },
  {
   "cell_type": "code",
   "execution_count": 13,
   "metadata": {},
   "outputs": [],
   "source": [
    "s0 = black_pricer._s.numpy()\n",
    "r = black_pricer._r.numpy()\n",
    "sigma = black_pricer._sigma.numpy()\n",
    "t = black_pricer._t.numpy()\n",
    "gbm = tq.GeometricBrownianMotion(r,sigma, s0)"
   ]
  },
  {
   "cell_type": "code",
   "execution_count": 14,
   "metadata": {},
   "outputs": [],
   "source": [
    "import tensorflow as tf\n",
    "n_path = 200000\n",
    "timesteps = 200\n",
    "z = tf.random.normal((n_path, timesteps), seed=12, dtype=tf.dtypes.float64)"
   ]
  },
  {
   "cell_type": "code",
   "execution_count": 15,
   "metadata": {},
   "outputs": [
    {
     "name": "stdout",
     "output_type": "stream",
     "text": [
      "Black AAD: \n",
      "Price:  11.549910803860488\n",
      "******************************\n",
      "Delta: 0.542190725790068\n",
      "Rho: 29.059129051217027\n",
      "Vega: 36.12936387712836\n",
      "Theta: 13.46892131636077\n",
      "******************************\n"
     ]
    }
   ],
   "source": [
    "t = tf.Variable(t, dtype=tf.float64)\n",
    "with tf.GradientTape() as tape:\n",
    "    s_t = gbm.evolve(t, z)\n",
    "    payoff = tf.math.maximum(s_t[:, -1] - strike_price, 0)\n",
    "    p_mc = tf.exp(-gbm._mu * t) * tf.reduce_mean(payoff)\n",
    "\n",
    "sensy = tape.gradient(p_mc, [gbm._x0, gbm._mu, gbm._sigma, t])\n",
    "print(\"Black AAD: \")\n",
    "print(\"Price: \", p_mc.numpy())\n",
    "print(\"*\"*30)\n",
    "print(f\"Delta: {sensy[0].numpy()}\")\n",
    "print(f\"Rho: {sensy[1].numpy()}\")\n",
    "print(f\"Vega: {sensy[2].numpy()}\")\n",
    "print(f\"Theta: {sensy[3].numpy()}\")\n",
    "print(\"*\"*30)"
   ]
  },
  {
   "cell_type": "code",
   "execution_count": null,
   "metadata": {},
   "outputs": [],
   "source": []
  },
  {
   "cell_type": "code",
   "execution_count": null,
   "metadata": {},
   "outputs": [],
   "source": []
  },
  {
   "cell_type": "code",
   "execution_count": null,
   "metadata": {},
   "outputs": [],
   "source": []
  },
  {
   "cell_type": "code",
   "execution_count": null,
   "metadata": {},
   "outputs": [],
   "source": []
  }
 ],
 "metadata": {
  "kernelspec": {
   "display_name": "Python 3",
   "language": "python",
   "name": "python3"
  },
  "language_info": {
   "codemirror_mode": {
    "name": "ipython",
    "version": 3
   },
   "file_extension": ".py",
   "mimetype": "text/x-python",
   "name": "python",
   "nbconvert_exporter": "python",
   "pygments_lexer": "ipython3",
   "version": "3.10.7"
  }
 },
 "nbformat": 4,
 "nbformat_minor": 2
}
